{
 "cells": [
  {
   "cell_type": "code",
   "execution_count": 6,
   "metadata": {},
   "outputs": [],
   "source": [
    "import dask as da\n",
    "import dask.dataframe as daskdf\n",
    "import dask.array as daa\n",
    "import dask.distributed as dd\n",
    "import dask.datasets as ds\n",
    "import pandas as pd\n",
    "import matplotlib.pyplot as plt\n",
    "import cartopy.crs as ccrs\n",
    "import cartopy.feature as cfeature\n",
    "import seaborn as sns\n",
    "import sklearn as sk\n",
    "import numpy as np\n",
    "import dask_ml.preprocessing as dm_pre\n",
    "import dask_ml.cluster as dm_cluster\n",
    "import dask_geopandas as dg\n",
    "from sklearn.cluster import DBSCAN\n",
    "from sklearn.preprocessing import StandardScaler\n",
    "import geopandas as gpd\n",
    "from scipy.stats import pearsonr\n",
    "import time"
   ]
  },
  {
   "cell_type": "markdown",
   "metadata": {},
   "source": [
    "# Phase Four: Modeling. \n",
    "This phase involves selecting, applying, and tuning various statistical or machine learning models to your prepared data. Here's what typically happens in this phase:"
   ]
  },
  {
   "cell_type": "code",
   "execution_count": 7,
   "metadata": {},
   "outputs": [],
   "source": [
    "# load preprocessed data\n",
    "\"\"\"data look like this: ;mapped_veh_id;timestamps_UTC;lat;lon;RS_E_InAirTemp_PC1;RS_E_InAirTemp_PC2;RS_E_OilPress_PC1;RS_E_OilPress_PC2;RS_E_RPM_PC1;RS_E_RPM_PC2;RS_E_WatTemp_PC1;RS_E_WatTemp_PC2;RS_T_OilTemp_PC1;RS_T_OilTemp_PC2\n",
    "0;181;2023-08-01 03:44:12;50.7698183;3.8721144;27.0;23.0;255.0;238.0;794.0;801.0;83.0;81.0;76.0;77.0\n",
    "1;143;2023-08-01 06:36:29;51.0399934;3.6934285;33.0;32.0;272.0;324.0;802.0;804.0;78.0;78.0;73.0;74.0\n",
    "2;183;2023-08-24 06:53:54;50.7422026;3.6020347;31.0;33.0;234.0;182.0;799.0;802.0;82.0;82.0;85.0;87.0\"\"\"\n",
    "# Load data\n",
    "def load_data():\n",
    "    print(\"Loading data...\")\n",
    "    start = time.time()\n",
    "    df = daskdf.read_csv(\"preprocessed.csv\")\n",
    "    end = time.time()\n",
    "    print(\"Data loaded in {} seconds\".format(end-start))\n",
    "    return df"
   ]
  },
  {
   "cell_type": "code",
   "execution_count": 8,
   "metadata": {},
   "outputs": [
    {
     "name": "stdout",
     "output_type": "stream",
     "text": [
      "Loading data...\n",
      "Data loaded in 0.020537137985229492 seconds\n",
      "   Unnamed: 0  mapped_veh_id       timestamps_UTC        lat       lon  \\\n",
      "0           0          112.0  2023-08-01 11:42:55  51.031514  3.727847   \n",
      "1           1          179.0  2023-08-24 17:48:07  51.189722  5.110089   \n",
      "2           2          190.0  2023-08-01 12:27:13  51.136007  4.559994   \n",
      "3           3          179.0  2023-08-24 18:18:05  51.190734  5.114649   \n",
      "4           4          122.0  2023-08-01 12:53:12  51.035850  3.709883   \n",
      "\n",
      "   RS_E_InAirTemp_PC1  RS_E_InAirTemp_PC2  RS_E_OilPress_PC1  \\\n",
      "0              309.15              313.15              276.0   \n",
      "1              314.15              303.15              220.0   \n",
      "2              307.15              313.15              376.0   \n",
      "3              311.15              304.15              220.0   \n",
      "4              303.15              304.15              193.0   \n",
      "\n",
      "   RS_E_OilPress_PC2  RS_E_RPM_PC1  RS_E_RPM_PC2  RS_E_WatTemp_PC1  \\\n",
      "0              248.0         798.0         797.0            346.15   \n",
      "1              227.0         796.0         798.0            355.15   \n",
      "2              317.0        1236.0        1214.0            356.15   \n",
      "3              220.0         802.0         799.0            355.15   \n",
      "4              269.0         801.0         798.0            352.15   \n",
      "\n",
      "   RS_E_WatTemp_PC2  RS_T_OilTemp_PC1  RS_T_OilTemp_PC2     city        date  \n",
      "0            355.15            351.15            355.15     Gent  2023-08-01  \n",
      "1            356.15            352.15            355.15  Hasselt  2023-08-24  \n",
      "2            350.15            357.15            354.15  Antwerp  2023-08-01  \n",
      "3            355.15            353.15            355.15  Hasselt  2023-08-24  \n",
      "4            352.15            350.15            350.15     Gent  2023-08-01  \n",
      "15223631\n"
     ]
    }
   ],
   "source": [
    "ddf = load_data()\n",
    "print(ddf.head())\n",
    "print(len(ddf))"
   ]
  },
  {
   "cell_type": "code",
   "execution_count": 9,
   "metadata": {},
   "outputs": [],
   "source": [
    "# Modeling techniques selection"
   ]
  }
 ],
 "metadata": {
  "kernelspec": {
   "display_name": "Python 3",
   "language": "python",
   "name": "python3"
  },
  "language_info": {
   "codemirror_mode": {
    "name": "ipython",
    "version": 3
   },
   "file_extension": ".py",
   "mimetype": "text/x-python",
   "name": "python",
   "nbconvert_exporter": "python",
   "pygments_lexer": "ipython3",
   "version": "3.11.4"
  }
 },
 "nbformat": 4,
 "nbformat_minor": 2
}
