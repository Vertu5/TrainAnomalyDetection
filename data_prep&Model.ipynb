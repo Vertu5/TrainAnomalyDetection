{
 "cells": [
  {
   "cell_type": "code",
   "execution_count": 45,
   "metadata": {},
   "outputs": [],
   "source": [
    "import dask as da\n",
    "import dask.dataframe as daskdf\n",
    "import dask.array as daa\n",
    "import dask.distributed as dd\n",
    "import dask.datasets as ds\n",
    "import pandas as pd\n",
    "import matplotlib.pyplot as plt\n",
    "import cartopy.crs as ccrs\n",
    "import cartopy.feature as cfeature\n",
    "import seaborn as sns\n",
    "import sklearn as sk\n",
    "import numpy as np\n",
    "import dask_ml.preprocessing as dm_pre\n",
    "import dask_ml.cluster as dm_cluster\n",
    "import dask_geopandas as dg\n",
    "from sklearn.cluster import DBSCAN\n",
    "from sklearn.preprocessing import StandardScaler\n",
    "import geopandas as gpd\n",
    "from scipy.stats import pearsonr\n",
    "import time"
   ]
  },
  {
   "cell_type": "code",
   "execution_count": 50,
   "metadata": {},
   "outputs": [
    {
     "name": "stdout",
     "output_type": "stream",
     "text": [
      "Loading data...\n",
      "Data loaded in 0.045198917388916016 seconds\n"
     ]
    }
   ],
   "source": [
    "\"\"\"data look like this: ;mapped_veh_id;timestamps_UTC;lat;lon;RS_E_InAirTemp_PC1;RS_E_InAirTemp_PC2;RS_E_OilPress_PC1;RS_E_OilPress_PC2;RS_E_RPM_PC1;RS_E_RPM_PC2;RS_E_WatTemp_PC1;RS_E_WatTemp_PC2;RS_T_OilTemp_PC1;RS_T_OilTemp_PC2\n",
    "0;181;2023-08-01 03:44:12;50.7698183;3.8721144;27.0;23.0;255.0;238.0;794.0;801.0;83.0;81.0;76.0;77.0\n",
    "1;143;2023-08-01 06:36:29;51.0399934;3.6934285;33.0;32.0;272.0;324.0;802.0;804.0;78.0;78.0;73.0;74.0\n",
    "2;183;2023-08-24 06:53:54;50.7422026;3.6020347;31.0;33.0;234.0;182.0;799.0;802.0;82.0;82.0;85.0;87.0\"\"\"\n",
    "# Load data\n",
    "def load_data():\n",
    "    print(\"Loading data...\")\n",
    "    start = time.time()\n",
    "    df = daskdf.read_csv(\"ar41_for_ulb.csv\", sep=';')\n",
    "    end = time.time()\n",
    "    print(\"Data loaded in {} seconds\".format(end-start))\n",
    "    return df\n",
    "\n",
    "ddf = load_data()\n",
    "ddf = ddf.drop(columns=['Unnamed: 0'])\n",
    "# convert all temperatures from celcius to kelvin\n",
    "ddf['RS_E_InAirTemp_PC1'] = ddf['RS_E_InAirTemp_PC1'] + 273.15\n",
    "ddf['RS_E_InAirTemp_PC2'] = ddf['RS_E_InAirTemp_PC2'] + 273.15\n",
    "ddf['RS_E_WatTemp_PC1'] = ddf['RS_E_WatTemp_PC1'] + 273.15\n",
    "ddf['RS_E_WatTemp_PC2'] = ddf['RS_E_WatTemp_PC2'] + 273.15\n",
    "ddf['RS_T_OilTemp_PC1'] = ddf['RS_T_OilTemp_PC1'] + 273.15\n",
    "ddf['RS_T_OilTemp_PC2'] = ddf['RS_T_OilTemp_PC2'] + 273.15\n"
   ]
  },
  {
   "cell_type": "markdown",
   "metadata": {},
   "source": [
    "# Phase 3: Data Preparation\n",
    "This phase covers constructing the final data set for modeling tools. Steps include selecting data, cleansing data, constructing data, integrating data, and formatting data.\n",
    "\n",
    "Select Data:\n",
    "\n",
    "Decide on data based on relevance, quality, and technical constraints.\n",
    "Explain data inclusions/exclusions and prioritize attributes.\n",
    "Clean Data:\n",
    "\n",
    "Ensure data cleanliness, address missing values using appropriate techniques.\n",
    "Document how quality problems were addressed.\n",
    "Construct Data:\n",
    "\n",
    "Develop new records or derived attributes, considering modeling needs.\n",
    "Example: Create \"income per head\" as a derived attribute.\n",
    "Integrate Data:\n",
    "\n",
    "Combine information from multiple tables or records.\n",
    "Perform aggregations to summarize information.\n",
    "Format Data:\n",
    "\n",
    "Change data format or design to suit modeling tools.\n",
    "Example: Trim strings, reorganize information."
   ]
  },
  {
   "cell_type": "code",
   "execution_count": 52,
   "metadata": {},
   "outputs": [],
   "source": [
    "# Select Data: Filtering out all data before january 2023\n",
    "def select_data(df):\n",
    "    ddf = df[df['timestamps_UTC'] >= '2023-01-01']\n",
    "    # to drop the erratic data and keep only those in 10-90 percentile for every feature\n",
    "    for col in ddf.columns:\n",
    "        if col not in ['timestamps_UTC', 'lat', 'lon', 'mapped_veh_id']:\n",
    "            ddf = ddf[(ddf[col] > ddf[col].quantile(0.001)) & (ddf[col] < ddf[col].quantile(0.999))]\n",
    "\n",
    "    return ddf\n",
    "\n",
    "ddfprep = select_data(ddf)\n",
    "#index fix \n",
    "ddfprep = ddfprep.reset_index(drop=True)\n",
    "\n"
   ]
  },
  {
   "cell_type": "code",
   "execution_count": 53,
   "metadata": {},
   "outputs": [
    {
     "name": "stdout",
     "output_type": "stream",
     "text": [
      "15589036\n"
     ]
    }
   ],
   "source": [
    "# AS seen in exploratory analysis, we have some no duplicates at global level and nan values only for PC2 on 12726 rows over 17M rows so we can drop them\n",
    "#ddf = ddf.drop_duplicates()\n",
    "#ddf = ddf.dropna()\n",
    "\n",
    "print (len (ddfprep)) \n",
    "#print(ddf.head())\n",
    "\n",
    "## TODO: Construct Data if needed here "
   ]
  },
  {
   "cell_type": "code",
   "execution_count": 57,
   "metadata": {},
   "outputs": [
    {
     "ename": "ValueError",
     "evalue": "operands could not be broadcast together with shapes (nan,) (17679273,) (nan,)",
     "output_type": "error",
     "traceback": [
      "\u001b[1;31m---------------------------------------------------------------------------\u001b[0m",
      "\u001b[1;31mValueError\u001b[0m                                Traceback (most recent call last)",
      "Cell \u001b[1;32mIn[57], line 7\u001b[0m\n\u001b[0;32m      1\u001b[0m \u001b[38;5;66;03m# we will cluster the lan and lon and associate to each row the name of a city centroid of the cluster \u001b[39;00m\n\u001b[0;32m      2\u001b[0m \n\u001b[0;32m      3\u001b[0m \u001b[38;5;66;03m# first city = Charleroi \u001b[39;00m\n\u001b[0;32m      4\u001b[0m \u001b[38;5;66;03m# if lat < 50.522345 city_centroid = Charleroi\u001b[39;00m\n\u001b[0;32m      5\u001b[0m ddf \u001b[38;5;241m=\u001b[39m ddf\u001b[38;5;241m.\u001b[39mset_index(\u001b[38;5;124m'\u001b[39m\u001b[38;5;124mlat\u001b[39m\u001b[38;5;124m'\u001b[39m)  \u001b[38;5;66;03m# Set 'lat' as the index\u001b[39;00m\n\u001b[1;32m----> 7\u001b[0m ddf[\u001b[38;5;124m'\u001b[39m\u001b[38;5;124mcity\u001b[39m\u001b[38;5;124m'\u001b[39m] \u001b[38;5;241m=\u001b[39m daskdf\u001b[38;5;241m.\u001b[39mfrom_array(\u001b[43mnp\u001b[49m\u001b[38;5;241;43m.\u001b[39;49m\u001b[43mwhere\u001b[49m\u001b[43m(\u001b[49m\u001b[43mddf\u001b[49m\u001b[38;5;241;43m.\u001b[39;49m\u001b[43mindex\u001b[49m\u001b[43m \u001b[49m\u001b[38;5;241;43m<\u001b[39;49m\u001b[43m \u001b[49m\u001b[38;5;241;43m50.522345\u001b[39;49m\u001b[43m,\u001b[49m\n\u001b[0;32m      8\u001b[0m \u001b[43m                                     \u001b[49m\u001b[43mnp\u001b[49m\u001b[38;5;241;43m.\u001b[39;49m\u001b[43mwhere\u001b[49m\u001b[43m(\u001b[49m\u001b[43mddf\u001b[49m\u001b[43m[\u001b[49m\u001b[38;5;124;43m'\u001b[39;49m\u001b[38;5;124;43mlon\u001b[39;49m\u001b[38;5;124;43m'\u001b[39;49m\u001b[43m]\u001b[49m\u001b[43m \u001b[49m\u001b[38;5;241;43m<\u001b[39;49m\u001b[43m \u001b[49m\u001b[38;5;241;43m4.586875\u001b[39;49m\u001b[43m,\u001b[49m\u001b[43m \u001b[49m\u001b[38;5;124;43m'\u001b[39;49m\u001b[38;5;124;43mCharleroi\u001b[39;49m\u001b[38;5;124;43m'\u001b[39;49m\u001b[43m,\u001b[49m\u001b[43m \u001b[49m\u001b[38;5;124;43m'\u001b[39;49m\u001b[38;5;124;43mNamur\u001b[39;49m\u001b[38;5;124;43m'\u001b[39;49m\u001b[43m)\u001b[49m\u001b[43m,\u001b[49m\n\u001b[0;32m      9\u001b[0m \u001b[43m                                     \u001b[49m\u001b[43mnp\u001b[49m\u001b[38;5;241;43m.\u001b[39;49m\u001b[43mwhere\u001b[49m\u001b[43m(\u001b[49m\u001b[43mddf\u001b[49m\u001b[43m[\u001b[49m\u001b[38;5;124;43m'\u001b[39;49m\u001b[38;5;124;43mlon\u001b[39;49m\u001b[38;5;124;43m'\u001b[39;49m\u001b[43m]\u001b[49m\u001b[43m \u001b[49m\u001b[38;5;241;43m<\u001b[39;49m\u001b[43m \u001b[49m\u001b[38;5;241;43m4.073960\u001b[39;49m\u001b[43m,\u001b[49m\u001b[43m \u001b[49m\u001b[38;5;124;43m'\u001b[39;49m\u001b[38;5;124;43mGent\u001b[39;49m\u001b[38;5;124;43m'\u001b[39;49m\u001b[43m,\u001b[49m\n\u001b[0;32m     10\u001b[0m \u001b[43m                                              \u001b[49m\u001b[43mnp\u001b[49m\u001b[38;5;241;43m.\u001b[39;49m\u001b[43mwhere\u001b[49m\u001b[43m(\u001b[49m\u001b[43m(\u001b[49m\u001b[38;5;241;43m4.073960\u001b[39;49m\u001b[43m \u001b[49m\u001b[38;5;241;43m<\u001b[39;49m\u001b[43m \u001b[49m\u001b[43mddf\u001b[49m\u001b[43m[\u001b[49m\u001b[38;5;124;43m'\u001b[39;49m\u001b[38;5;124;43mlon\u001b[39;49m\u001b[38;5;124;43m'\u001b[39;49m\u001b[43m]\u001b[49m\u001b[43m)\u001b[49m\u001b[43m \u001b[49m\u001b[38;5;241;43m&\u001b[39;49m\u001b[43m \u001b[49m\u001b[43m(\u001b[49m\u001b[43mddf\u001b[49m\u001b[43m[\u001b[49m\u001b[38;5;124;43m'\u001b[39;49m\u001b[38;5;124;43mlon\u001b[39;49m\u001b[38;5;124;43m'\u001b[39;49m\u001b[43m]\u001b[49m\u001b[43m \u001b[49m\u001b[38;5;241;43m<\u001b[39;49m\u001b[43m \u001b[49m\u001b[38;5;241;43m4.786476\u001b[39;49m\u001b[43m)\u001b[49m\u001b[43m,\u001b[49m\n\u001b[0;32m     11\u001b[0m \u001b[43m                                                       \u001b[49m\u001b[43mnp\u001b[49m\u001b[38;5;241;43m.\u001b[39;49m\u001b[43mwhere\u001b[49m\u001b[43m(\u001b[49m\u001b[43mddf\u001b[49m\u001b[38;5;241;43m.\u001b[39;49m\u001b[43mindex\u001b[49m\u001b[43m \u001b[49m\u001b[38;5;241;43m<\u001b[39;49m\u001b[43m \u001b[49m\u001b[38;5;241;43m50.522345\u001b[39;49m\u001b[43m,\u001b[49m\u001b[43m \u001b[49m\u001b[38;5;124;43m'\u001b[39;49m\u001b[38;5;124;43mAntwerp\u001b[39;49m\u001b[38;5;124;43m'\u001b[39;49m\u001b[43m,\u001b[49m\u001b[43m \u001b[49m\u001b[38;5;124;43m'\u001b[39;49m\u001b[38;5;124;43mBrussels\u001b[39;49m\u001b[38;5;124;43m'\u001b[39;49m\u001b[43m)\u001b[49m\u001b[43m,\u001b[49m\n\u001b[0;32m     12\u001b[0m \u001b[43m                                                       \u001b[49m\u001b[38;5;124;43m'\u001b[39;49m\u001b[38;5;124;43mHasselt\u001b[39;49m\u001b[38;5;124;43m'\u001b[39;49m\u001b[43m)\u001b[49m\u001b[43m)\u001b[49m\u001b[43m)\u001b[49m)\n",
      "File \u001b[1;32mc:\\Python311\\Lib\\site-packages\\dask\\array\\core.py:1760\u001b[0m, in \u001b[0;36mArray.__array_function__\u001b[1;34m(self, func, types, args, kwargs)\u001b[0m\n\u001b[0;32m   1757\u001b[0m \u001b[38;5;28;01mif\u001b[39;00m has_keyword(da_func, \u001b[38;5;124m\"\u001b[39m\u001b[38;5;124mlike\u001b[39m\u001b[38;5;124m\"\u001b[39m):\n\u001b[0;32m   1758\u001b[0m     kwargs[\u001b[38;5;124m\"\u001b[39m\u001b[38;5;124mlike\u001b[39m\u001b[38;5;124m\"\u001b[39m] \u001b[38;5;241m=\u001b[39m \u001b[38;5;28mself\u001b[39m\n\u001b[1;32m-> 1760\u001b[0m \u001b[38;5;28;01mreturn\u001b[39;00m \u001b[43mda_func\u001b[49m\u001b[43m(\u001b[49m\u001b[38;5;241;43m*\u001b[39;49m\u001b[43margs\u001b[49m\u001b[43m,\u001b[49m\u001b[43m \u001b[49m\u001b[38;5;241;43m*\u001b[39;49m\u001b[38;5;241;43m*\u001b[39;49m\u001b[43mkwargs\u001b[49m\u001b[43m)\u001b[49m\n",
      "File \u001b[1;32mc:\\Python311\\Lib\\site-packages\\dask\\array\\routines.py:2107\u001b[0m, in \u001b[0;36mwhere\u001b[1;34m(condition, x, y)\u001b[0m\n\u001b[0;32m   2105\u001b[0m     \u001b[38;5;28;01mreturn\u001b[39;00m broadcast_to(out, shape)\u001b[38;5;241m.\u001b[39mastype(dtype)\n\u001b[0;32m   2106\u001b[0m \u001b[38;5;28;01melse\u001b[39;00m:\n\u001b[1;32m-> 2107\u001b[0m     \u001b[38;5;28;01mreturn\u001b[39;00m \u001b[43melemwise\u001b[49m\u001b[43m(\u001b[49m\u001b[43mnp\u001b[49m\u001b[38;5;241;43m.\u001b[39;49m\u001b[43mwhere\u001b[49m\u001b[43m,\u001b[49m\u001b[43m \u001b[49m\u001b[43mcondition\u001b[49m\u001b[43m,\u001b[49m\u001b[43m \u001b[49m\u001b[43mx\u001b[49m\u001b[43m,\u001b[49m\u001b[43m \u001b[49m\u001b[43my\u001b[49m\u001b[43m)\u001b[49m\n",
      "File \u001b[1;32mc:\\Python311\\Lib\\site-packages\\dask\\array\\core.py:4792\u001b[0m, in \u001b[0;36melemwise\u001b[1;34m(op, out, where, dtype, name, *args, **kwargs)\u001b[0m\n\u001b[0;32m   4788\u001b[0m     shapes\u001b[38;5;241m.\u001b[39mappend(out\u001b[38;5;241m.\u001b[39mshape)\n\u001b[0;32m   4790\u001b[0m shapes \u001b[38;5;241m=\u001b[39m [s \u001b[38;5;28;01mif\u001b[39;00m \u001b[38;5;28misinstance\u001b[39m(s, Iterable) \u001b[38;5;28;01melse\u001b[39;00m () \u001b[38;5;28;01mfor\u001b[39;00m s \u001b[38;5;129;01min\u001b[39;00m shapes]\n\u001b[0;32m   4791\u001b[0m out_ndim \u001b[38;5;241m=\u001b[39m \u001b[38;5;28mlen\u001b[39m(\n\u001b[1;32m-> 4792\u001b[0m     \u001b[43mbroadcast_shapes\u001b[49m\u001b[43m(\u001b[49m\u001b[38;5;241;43m*\u001b[39;49m\u001b[43mshapes\u001b[49m\u001b[43m)\u001b[49m\n\u001b[0;32m   4793\u001b[0m )  \u001b[38;5;66;03m# Raises ValueError if dimensions mismatch\u001b[39;00m\n\u001b[0;32m   4794\u001b[0m expr_inds \u001b[38;5;241m=\u001b[39m \u001b[38;5;28mtuple\u001b[39m(\u001b[38;5;28mrange\u001b[39m(out_ndim))[::\u001b[38;5;241m-\u001b[39m\u001b[38;5;241m1\u001b[39m]\n\u001b[0;32m   4796\u001b[0m \u001b[38;5;28;01mif\u001b[39;00m dtype \u001b[38;5;129;01mis\u001b[39;00m \u001b[38;5;129;01mnot\u001b[39;00m \u001b[38;5;28;01mNone\u001b[39;00m:\n",
      "File \u001b[1;32mc:\\Python311\\Lib\\site-packages\\dask\\array\\core.py:4720\u001b[0m, in \u001b[0;36mbroadcast_shapes\u001b[1;34m(*shapes)\u001b[0m\n\u001b[0;32m   4718\u001b[0m         dim \u001b[38;5;241m=\u001b[39m \u001b[38;5;241m0\u001b[39m \u001b[38;5;28;01mif\u001b[39;00m \u001b[38;5;241m0\u001b[39m \u001b[38;5;129;01min\u001b[39;00m sizes \u001b[38;5;28;01melse\u001b[39;00m np\u001b[38;5;241m.\u001b[39mmax(sizes)\n\u001b[0;32m   4719\u001b[0m     \u001b[38;5;28;01mif\u001b[39;00m \u001b[38;5;28many\u001b[39m(i \u001b[38;5;129;01mnot\u001b[39;00m \u001b[38;5;129;01min\u001b[39;00m [\u001b[38;5;241m-\u001b[39m\u001b[38;5;241m1\u001b[39m, \u001b[38;5;241m0\u001b[39m, \u001b[38;5;241m1\u001b[39m, dim] \u001b[38;5;129;01mand\u001b[39;00m \u001b[38;5;129;01mnot\u001b[39;00m np\u001b[38;5;241m.\u001b[39misnan(i) \u001b[38;5;28;01mfor\u001b[39;00m i \u001b[38;5;129;01min\u001b[39;00m sizes):\n\u001b[1;32m-> 4720\u001b[0m         \u001b[38;5;28;01mraise\u001b[39;00m \u001b[38;5;167;01mValueError\u001b[39;00m(\n\u001b[0;32m   4721\u001b[0m             \u001b[38;5;124m\"\u001b[39m\u001b[38;5;124moperands could not be broadcast together with \u001b[39m\u001b[38;5;124m\"\u001b[39m\n\u001b[0;32m   4722\u001b[0m             \u001b[38;5;124m\"\u001b[39m\u001b[38;5;124mshapes \u001b[39m\u001b[38;5;132;01m{}\u001b[39;00m\u001b[38;5;124m\"\u001b[39m\u001b[38;5;241m.\u001b[39mformat(\u001b[38;5;124m\"\u001b[39m\u001b[38;5;124m \u001b[39m\u001b[38;5;124m\"\u001b[39m\u001b[38;5;241m.\u001b[39mjoin(\u001b[38;5;28mmap\u001b[39m(\u001b[38;5;28mstr\u001b[39m, shapes)))\n\u001b[0;32m   4723\u001b[0m         )\n\u001b[0;32m   4724\u001b[0m     out\u001b[38;5;241m.\u001b[39mappend(dim)\n\u001b[0;32m   4725\u001b[0m \u001b[38;5;28;01mreturn\u001b[39;00m \u001b[38;5;28mtuple\u001b[39m(\u001b[38;5;28mreversed\u001b[39m(out))\n",
      "\u001b[1;31mValueError\u001b[0m: operands could not be broadcast together with shapes (nan,) (17679273,) (nan,)"
     ]
    }
   ],
   "source": [
    "# we will cluster the lan and lon and associate to each row the name of a city centroid of the cluster \n",
    "\n",
    "# first city = Charleroi \n",
    "# if lat < 50.522345 city_centroid = Charleroi\n",
    "ddf = ddf.set_index('lat')  # Set 'lat' as the index\n",
    "\n",
    "ddf['city'] = daskdf.from_array(np.where(ddf.index < 50.522345,\n",
    "                                     np.where(ddf['lon'] < 4.586875, 'Charleroi', 'Namur'),\n",
    "                                     np.where(ddf['lon'] < 4.073960, 'Gent',\n",
    "                                              np.where((4.073960 < ddf['lon']) & (ddf['lon'] < 4.786476),\n",
    "                                                       np.where(ddf.index < 50.522345, 'Antwerp', 'Brussels'),\n",
    "                                                       'Hasselt'))))"
   ]
  },
  {
   "cell_type": "code",
   "execution_count": null,
   "metadata": {},
   "outputs": [
    {
     "name": "stdout",
     "output_type": "stream",
     "text": [
      "Loading external data...\n"
     ]
    },
    {
     "ename": "NameError",
     "evalue": "name 'time' is not defined",
     "output_type": "error",
     "traceback": [
      "\u001b[1;31m---------------------------------------------------------------------------\u001b[0m",
      "\u001b[1;31mNameError\u001b[0m                                 Traceback (most recent call last)",
      "Cell \u001b[1;32mIn[5], line 14\u001b[0m\n\u001b[0;32m     11\u001b[0m     \u001b[38;5;28mprint\u001b[39m(\u001b[38;5;124m\"\u001b[39m\u001b[38;5;124mExternal data loaded in \u001b[39m\u001b[38;5;132;01m{}\u001b[39;00m\u001b[38;5;124m seconds\u001b[39m\u001b[38;5;124m\"\u001b[39m\u001b[38;5;241m.\u001b[39mformat(end\u001b[38;5;241m-\u001b[39mstart))\n\u001b[0;32m     12\u001b[0m     \u001b[38;5;28;01mreturn\u001b[39;00m df\n\u001b[1;32m---> 14\u001b[0m external_df \u001b[38;5;241m=\u001b[39m \u001b[43mload_external_data\u001b[49m\u001b[43m(\u001b[49m\u001b[43m)\u001b[49m\n\u001b[0;32m     16\u001b[0m \u001b[38;5;66;03m# Convert 'timestamps_UTC' to a datetime object for better handling\u001b[39;00m\n\u001b[0;32m     17\u001b[0m external_df[\u001b[38;5;124m'\u001b[39m\u001b[38;5;124mtimestamps_UTC\u001b[39m\u001b[38;5;124m'\u001b[39m] \u001b[38;5;241m=\u001b[39m dd\u001b[38;5;241m.\u001b[39mto_datetime(external_df[\u001b[38;5;124m'\u001b[39m\u001b[38;5;124mtimestamps_UTC\u001b[39m\u001b[38;5;124m'\u001b[39m])\n",
      "Cell \u001b[1;32mIn[5], line 8\u001b[0m, in \u001b[0;36mload_external_data\u001b[1;34m()\u001b[0m\n\u001b[0;32m      6\u001b[0m \u001b[38;5;28;01mdef\u001b[39;00m \u001b[38;5;21mload_external_data\u001b[39m():\n\u001b[0;32m      7\u001b[0m     \u001b[38;5;28mprint\u001b[39m(\u001b[38;5;124m\"\u001b[39m\u001b[38;5;124mLoading external data...\u001b[39m\u001b[38;5;124m\"\u001b[39m)\n\u001b[1;32m----> 8\u001b[0m     start \u001b[38;5;241m=\u001b[39m \u001b[43mtime\u001b[49m\u001b[38;5;241m.\u001b[39mtime()\n\u001b[0;32m      9\u001b[0m     df \u001b[38;5;241m=\u001b[39m daskdf\u001b[38;5;241m.\u001b[39mread_csv(\u001b[38;5;124m\"\u001b[39m\u001b[38;5;124mexternal_data.csv\u001b[39m\u001b[38;5;124m\"\u001b[39m, sep\u001b[38;5;241m=\u001b[39m\u001b[38;5;124m'\u001b[39m\u001b[38;5;124m;\u001b[39m\u001b[38;5;124m'\u001b[39m)\n\u001b[0;32m     10\u001b[0m     end \u001b[38;5;241m=\u001b[39m time\u001b[38;5;241m.\u001b[39mtime()\n",
      "\u001b[1;31mNameError\u001b[0m: name 'time' is not defined"
     ]
    }
   ],
   "source": [
    "# Integrate external data \n",
    "# here we will join external weather data with our data \n",
    "# for that we will perform join over the city and timestamp.\n",
    "\n",
    "# Load external data\n",
    "def load_external_data():\n",
    "    print(\"Loading external data...\")\n",
    "    start = time.time()\n",
    "    df = daskdf.read_csv(\"weather.csv\")\n",
    "    end = time.time()\n",
    "    print(\"External data loaded in {} seconds\".format(end-start))\n",
    "    return df\n",
    "\n",
    "external_df = load_external_data()\n",
    "\n",
    "# Convert 'timestamps_UTC' to a datetime object for better handling\n",
    "external_df['timestamps_UTC'] = dd.to_datetime(external_df['timestamps_UTC'])\n",
    "\n",
    "# create index for join\n",
    "ddf['timestamps_UTC'] = dd.to_datetime(ddf['timestamps_UTC'])\n",
    "ddf['date'] = ddf['timestamps_UTC'].dt.date\n",
    "ddf['date'] = dd.to_datetime(ddf['date'])\n",
    "ddf = ddf.set_index(['city', 'date'])\n",
    "\n",
    "external_df['date'] = dd.to_datetime(external_df['date'])\n",
    "external_df = external_df.set_index(['city', 'date'])\n",
    "\n",
    "# Join external data with our data\n",
    "ddf = ddf.join(external_df, how='left') # this will join data from external_df to ddf on the index \n",
    "\n",
    "# we will fill the nan values with the mean of the column\n",
    "if ddf.isnull().values.any():\n",
    "    print(\" nan finded  will be filled with the mean of the column\")\n",
    "    ddf = ddf.fillna(ddf.mean())\n",
    "\n",
    "# we will drop the columns that we don't need anymore\n",
    "print(ddf.head())\n",
    "ddf = ddf.drop(columns=['lat', 'lon', 'date', 'hour', 'city','longitude', 'latitude' ])\n",
    "print(ddf.head())\n",
    "\n",
    "# we will drop the duplicates\n",
    "if ddf.duplicated().values.any():\n",
    "    print(\"duplicates finded  will be dropped\")\n",
    "    ddf = ddf.drop_duplicates()\n",
    "\n"
   ]
  },
  {
   "cell_type": "markdown",
   "metadata": {},
   "source": [
    "# Phase Four: Modeling. \n",
    "This phase involves selecting, applying, and tuning various statistical or machine learning models to your prepared data. Here's what typically happens in this phase:"
   ]
  },
  {
   "cell_type": "code",
   "execution_count": null,
   "metadata": {},
   "outputs": [],
   "source": [
    "# Modeling techniques selection\n",
    "\n"
   ]
  }
 ],
 "metadata": {
  "kernelspec": {
   "display_name": "Python 3",
   "language": "python",
   "name": "python3"
  },
  "language_info": {
   "codemirror_mode": {
    "name": "ipython",
    "version": 3
   },
   "file_extension": ".py",
   "mimetype": "text/x-python",
   "name": "python",
   "nbconvert_exporter": "python",
   "pygments_lexer": "ipython3",
   "version": "3.11.4"
  }
 },
 "nbformat": 4,
 "nbformat_minor": 2
}
