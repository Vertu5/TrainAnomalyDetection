{
 "cells": [
  {
   "cell_type": "code",
   "execution_count": 19,
   "metadata": {},
   "outputs": [],
   "source": [
    "import dask as da\n",
    "import dask.dataframe as daskdf\n",
    "import dask.array as daa\n",
    "import dask.distributed as dd\n",
    "import dask.datasets as ds\n",
    "import pandas as pd\n",
    "import matplotlib.pyplot as plt\n",
    "import cartopy.crs as ccrs\n",
    "import cartopy.feature as cfeature\n",
    "import seaborn as sns\n",
    "import sklearn as sk\n",
    "import numpy as np\n",
    "import dask_ml.preprocessing as dm_pre\n",
    "import dask_ml.cluster as dm_cluster\n",
    "import dask_geopandas as dg\n",
    "from sklearn.cluster import DBSCAN\n",
    "from sklearn.preprocessing import StandardScaler\n",
    "import geopandas as gpd\n",
    "from scipy.stats import pearsonr\n",
    "import time"
   ]
  },
  {
   "cell_type": "markdown",
   "metadata": {},
   "source": [
    "# Phase Four: Modeling. \n",
    "This phase involves selecting, applying, and tuning various statistical or machine learning models to your prepared data. Here's what typically happens in this phase:"
   ]
  },
  {
   "cell_type": "code",
   "execution_count": 20,
   "metadata": {},
   "outputs": [],
   "source": [
    "# load preprocessed data\n",
    "\"\"\"data head look like this: \n",
    "   mapped_veh_id       timestamps_UTC  RS_E_InAirTemp_PC1  RS_E_InAirTemp_PC2  \\\n",
    "0          112.0  2023-08-01 11:42:55              309.15              313.15   \n",
    "1          179.0  2023-08-24 17:48:07              314.15              303.15   \n",
    "2          190.0  2023-08-01 12:27:13              307.15              313.15   \n",
    "3          179.0  2023-08-24 18:18:05              311.15              304.15   \n",
    "4          122.0  2023-08-01 12:53:12              303.15              304.15   \n",
    "\n",
    "   RS_E_OilPress_PC1  RS_E_OilPress_PC2  RS_E_RPM_PC1  RS_E_RPM_PC2  \\\n",
    "0              276.0              248.0         798.0         797.0   \n",
    "1              220.0              227.0         796.0         798.0   \n",
    "2              376.0              317.0        1236.0        1214.0   \n",
    "3              220.0              220.0         802.0         799.0   \n",
    "4              193.0              269.0         801.0         798.0   \n",
    "\n",
    "   RS_E_WatTemp_PC1  RS_E_WatTemp_PC2  RS_T_OilTemp_PC1  RS_T_OilTemp_PC2  \\\n",
    "0            346.15            355.15            351.15            355.15   \n",
    "1            355.15            356.15            352.15            355.15   \n",
    "2            356.15            350.15            357.15            354.15   \n",
    "3            355.15            355.15            353.15            355.15   \n",
    "4            352.15            352.15            350.15            350.15   \n",
    "\n",
    "   tempmax  tempmin  temp  \n",
    "0     19.7     15.4  17.4  \n",
    "...\n",
    "2     19.7     15.1  17.2  \n",
    "3     24.1     15.9  19.8  \n",
    "4     19.7     15.4  17.4  \n",
    "\"\"\"\n",
    "# Load data\n",
    "def load_data():\n",
    "    print(\"Loading data...\")\n",
    "    start = time.time()\n",
    "    df = daskdf.read_csv(\"preprocessed.csv\")\n",
    "    end = time.time()\n",
    "    print(\"Data loaded in {} seconds\".format(end-start))\n",
    "    return df"
   ]
  },
  {
   "cell_type": "code",
   "execution_count": 21,
   "metadata": {},
   "outputs": [
    {
     "name": "stdout",
     "output_type": "stream",
     "text": [
      "Loading data...\n",
      "Data loaded in 0.37255072593688965 seconds\n",
      "   mapped_veh_id       timestamps_UTC  RS_E_InAirTemp_PC1  RS_E_InAirTemp_PC2  \\\n",
      "0          112.0  2023-08-01 11:42:55              309.15              313.15   \n",
      "1          179.0  2023-08-24 17:48:07              314.15              303.15   \n",
      "2          190.0  2023-08-01 12:27:13              307.15              313.15   \n",
      "3          179.0  2023-08-24 18:18:05              311.15              304.15   \n",
      "4          122.0  2023-08-01 12:53:12              303.15              304.15   \n",
      "\n",
      "   RS_E_OilPress_PC1  RS_E_OilPress_PC2  RS_E_RPM_PC1  RS_E_RPM_PC2  \\\n",
      "0              276.0              248.0         798.0         797.0   \n",
      "1              220.0              227.0         796.0         798.0   \n",
      "2              376.0              317.0        1236.0        1214.0   \n",
      "3              220.0              220.0         802.0         799.0   \n",
      "4              193.0              269.0         801.0         798.0   \n",
      "\n",
      "   RS_E_WatTemp_PC1  RS_E_WatTemp_PC2  RS_T_OilTemp_PC1  RS_T_OilTemp_PC2  \\\n",
      "0            346.15            355.15            351.15            355.15   \n",
      "1            355.15            356.15            352.15            355.15   \n",
      "2            356.15            350.15            357.15            354.15   \n",
      "3            355.15            355.15            353.15            355.15   \n",
      "4            352.15            352.15            350.15            350.15   \n",
      "\n",
      "   tempmax  tempmin  temp  \n",
      "0     19.7     15.4  17.4  \n",
      "1     24.1     15.9  19.8  \n",
      "2     19.7     15.1  17.2  \n",
      "3     24.1     15.9  19.8  \n",
      "4     19.7     15.4  17.4  \n",
      "14814399\n"
     ]
    }
   ],
   "source": [
    "ddf = load_data()\n",
    "ddf = ddf.drop(columns=[\"Unnamed: 0\"])\n",
    "print(ddf.head())\n",
    "print(len(ddf))"
   ]
  },
  {
   "cell_type": "code",
   "execution_count": 23,
   "metadata": {},
   "outputs": [],
   "source": [
    "# Unsuppervised Modeling techniques selection\n",
    "# 1. Isolation Forest: Effective for high-dimensional datasets. It isolates anomalies instead of modeling normal points, which is efficient when anomalies are rare.\n",
    "\n",
    "# 2. Local Outlier Factor (LOF): It is an unsupervised outlier detection method which computes the local density deviation of a given data point with respect to its neighbors. It considers as outliers the samples that have a substantially lower density than their neighbors. can less effectively handle datasets with varying densities and lof is not well suited for high dimensional data. and it cannot handle the noise data. \n",
    "\n",
    "# 3. One-Class SVM: It is an unsupervised algorithm that learns a decision function for novelty detection: classifying new data as similar or different to the training set. It is based on the idea that a normal data point is surrounded by similar data points, while abnormal data points are far from their neighbors. It is effective in high dimensional spaces and it is memory efficient. It is not suited for large datasets and it does not perform well when the proportion of outliers is high.\n",
    "\n",
    "# 4. DBSCAN: It is a density-based clustering algorithm that groups together points that are close to each other based on a distance measurement (usually Euclidean distance). It is effective for data which contains clusters of similar density. It is not suited for datasets with varying densities and it cannot handle noisy data.\n"
   ]
  },
  {
   "cell_type": "code",
   "execution_count": null,
   "metadata": {},
   "outputs": [
    {
     "ename": "SyntaxError",
     "evalue": "invalid syntax (1108512595.py, line 3)",
     "output_type": "error",
     "traceback": [
      "\u001b[1;36m  Cell \u001b[1;32mIn[24], line 3\u001b[1;36m\u001b[0m\n\u001b[1;33m    def\u001b[0m\n\u001b[1;37m       ^\u001b[0m\n\u001b[1;31mSyntaxError\u001b[0m\u001b[1;31m:\u001b[0m invalid syntax\n"
     ]
    }
   ],
   "source": []
  },
  {
   "cell_type": "code",
   "execution_count": null,
   "metadata": {},
   "outputs": [],
   "source": []
  }
 ],
 "metadata": {
  "kernelspec": {
   "display_name": "Python 3",
   "language": "python",
   "name": "python3"
  },
  "language_info": {
   "codemirror_mode": {
    "name": "ipython",
    "version": 3
   },
   "file_extension": ".py",
   "mimetype": "text/x-python",
   "name": "python",
   "nbconvert_exporter": "python",
   "pygments_lexer": "ipython3",
   "version": "3.11.4"
  }
 },
 "nbformat": 4,
 "nbformat_minor": 2
}
